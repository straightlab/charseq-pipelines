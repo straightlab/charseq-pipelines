{
 "cells": [
  {
   "cell_type": "markdown",
   "metadata": {},
   "source": [
    "In this notebook, we walk through how to prepare the \"annotation files\" required by tagtools to annotate the reads with transcript IDs and names. \n",
    "\n",
    "The starting point is a GFF3 file for the species of interest. GFF3 files for different species and from different databases are organized somewhat differently, so one needs to modify the steps below according to the specifics of the GFF# file. \n",
    "\n",
    "Here, we generate the annotation files for a Drosphila using a GFF3 file downloaded from Encode. "
   ]
  },
  {
   "cell_type": "markdown",
   "metadata": {},
   "source": [
    "## Drosophila, GFF3 from Encode"
   ]
  },
  {
   "cell_type": "markdown",
   "metadata": {},
   "source": [
    "### Download GFF3\n",
    "This is the file to download\n",
    "<ftp://ftp.ensembl.org/pub/release-95/gff3/drosophila_melanogaster/Drosophila_melanogaster.BDGP6.95.gff3.gz>\n"
   ]
  },
  {
   "cell_type": "markdown",
   "metadata": {},
   "source": [
    "### Make an annotation table"
   ]
  },
  {
   "cell_type": "markdown",
   "metadata": {},
   "source": [
    "First we need to make a simple \"annotation\" table, which is a simple text file which links a transcript ID to a gene name, type, strand and length. This table will be used by tagtools for annotating the reads with actual transcript id and name. The file should look like this\n",
    "\n",
    "```txt\n",
    "ENST00000000233.9       ARF5    protein_coding  +       3360\n",
    "ENST00000000412.7       M6PR    protein_coding  -       9590\n",
    "ENST00000000442.10      ESRRA   protein_coding  +       11160\n",
    "```\n",
    "\n",
    "For the human gff file, we can do that with the following command\n",
    "\n",
    "```bash\n",
    "awk -F $'\\t' 'BEGIN{OFS=\"\\t\"}(/^#/){next;}($3==\"transcript\"){split($9, x,\";\"); for (i = 0; ++i <= length(x);){delete x; delete y; delete z; split(x[i],y,\"=\"); z[y[1]]=y[2];}; s=$4; s2=$5; print z[\"ID\"], z[\"gene_name\"], z[\"gene_type\"], $7, s2-s}' gencode.v29.primary_assembly.annotation.gff3\n",
    "```\n",
    "\n",
    "For dmel, the desired features are not labeled as transcript, as you can see with \n",
    "\n",
    "```bash\n",
    "cat Drosophila_melanogaster.BDGP6.95.gff3 | grep -v \"##\" | grep \"ID=transcript\" | cut -f3 | sort | uniq\n",
    "```\n",
    "\n",
    "Therefore the proper command is \n",
    "\n",
    "```bash\n",
    "awk -F $'\\t' 'BEGIN{types[\"mRNA\"]=1; types[\"ncRNA\"]=1; types[\"pre_miRNA\"]=1; types[\"pseudogenic_transcript\"]=1; types[\"rRNA\"]=1; types[\"snRNA\"]=1; types[\"snoRNA\"]=1; types[\"tRNA\"]=1; OFS=\"\\t\"}(/^#/){next;}($3 in types){delete x; delete y; delete z; split($9, x,\";\"); for (i = 0; ++i <= length(x);){split(x[i],y,\"=\"); z[y[1]]=y[2];}; s=$5-$4; print substr(z[\"ID\"],12), z[\"Name\"], z[\"biotype\"], $7, s, substr(z[\"Parent\"],6)}' Drosophila_melanogaster.BDGP6.95.gff3 > tableGENES.withStrand.txt\n",
    "```"
   ]
  },
  {
   "cell_type": "markdown",
   "metadata": {},
   "source": [
    "### Make the exons dictionnary\n",
    "In order to convert transcriptome coordinates to genomic coordinates, tagtools require a python dictionnary which contains the location of the splice junctions for each transcript. For now, we are doing this manually by adjusting the definition of the function below to account for the features of the specific gtf file we are interested in. This function will create a python dictionnary which which we will save as a pickle file (this will be changed into json file in a future release) "
   ]
  },
  {
   "cell_type": "code",
   "execution_count": 41,
   "metadata": {
    "collapsed": true
   },
   "outputs": [],
   "source": [
    "import subprocess\n",
    "import numpy as np\n",
    "def make_exons_dict_fromGFF(gff_file, nmax=0):\n",
    "    m={}\n",
    "    \n",
    "    cmd = \"cat \"+gff_file+\"\"\" | awk -F $'\\t' 'BEGIN{types[\"mRNA\"]=1; types[\"ncRNA\"]=1; types[\"pre_miRNA\"]=1; types[\"pseudogenic_transcript\"]=1; types[\"rRNA\"]=1; types[\"snRNA\"]=1; types[\"snoRNA\"]=1; types[\"tRNA\"]=1; OFS=\"\\t\"}(/^#/){next;}($3 in types)\"\"\"\n",
    "    cmd+=\"\"\"{delete xarr; delete yy; delete zz; x=$9; split(x,xarr,\\\";\\\"); for (i=1; i<=length(xarr); i++)\"\"\"\n",
    "    cmd+=\"\"\" {split(xarr[i],yy,\"=\"); zz[yy[1]]=yy[2];}; print zz[\"transcript_id\"], $4, $5, $7, $1}'\"\"\"\n",
    "    \n",
    "    print(cmd)\n",
    "    p = subprocess.Popen(cmd, shell=True, stdout=subprocess.PIPE, bufsize=1, universal_newlines=True, start_new_session=True)\n",
    "    nok=0\n",
    "    for _, line in enumerate(p.stdout):\n",
    "        if nmax>0 and nok>nmax:\n",
    "            break\n",
    "        read_data=line.strip().split(\"\\t\") \n",
    "        T_id=read_data[0] #transcript I\n",
    "        \n",
    "        if T_id in m:\n",
    "            print(\"oops, already found\")\n",
    "#             m[T_id]+=[read_data[3],read_data[1],read_data[2]]\n",
    "        else:\n",
    "            nok+=1\n",
    "            readstrand=int(1) if read_data[3]==\"+\" else int(-1)\n",
    "            m[T_id]=[readstrand,int(read_data[1]),int(read_data[2]),read_data[4]]\n",
    "            \n",
    "    p.terminate()\n",
    "    del p\n",
    "    \n",
    "    m2={}\n",
    "    cmd = \"cat \"+gff_file+\"\"\" | awk -F $'\\t' 'BEGIN{OFS=\"\\t\"}((!/^#/) && $3==\"exon\")\"\"\"\n",
    "    cmd+=\"\"\"{delete xarr; delete yy; delete zz; x=$9; split(x,xarr,\\\";\\\"); for (i=1; i<=length(xarr); i++)\"\"\"\n",
    "    cmd+=\"\"\" {split(xarr[i],yy,\"=\"); zz[yy[1]]=yy[2];}; print substr(zz[\"Parent\"],12), $4, $5}'\"\"\"\n",
    "    print(cmd)\n",
    "    p = subprocess.Popen(cmd, shell=True, stdout=subprocess.PIPE, bufsize=1, universal_newlines=True, start_new_session=True)\n",
    "    nok=0\n",
    "    for _, line in enumerate(p.stdout):\n",
    "        if nmax>0 and nok>nmax:\n",
    "            break\n",
    "        read_data=line.strip().split(\"\\t\") \n",
    "        T_id=read_data[0] #transcript I\n",
    "        \n",
    "        vals=m2.pop(T_id,[])\n",
    "        if len(vals)>0:\n",
    "            \n",
    "            m2[T_id]=np.vstack([vals,np.array([int(read_data[1]),int(read_data[2])])])\n",
    "        else:\n",
    "            nok+=1\n",
    "            m2[T_id]=np.array([[int(read_data[1]),int(read_data[2])]])\n",
    "    \n",
    "    p.terminate()\n",
    "    del p\n",
    "    \n",
    "    for k, v in m.items():\n",
    "        vals=m2.pop(k,[])\n",
    "        if len(vals)>0:\n",
    "            if v[0]==1:\n",
    "                a=np.argsort(vals[:,0])\n",
    "                m2[k]=[v[3],np.insert(np.cumsum(vals[a,1]-vals[a,0]+1),0,0),vals[a,0]]\n",
    "            else:\n",
    "                a=np.argsort(-vals[:,1])\n",
    "                m2[k]=[v[3],np.insert(np.cumsum(vals[a,1]-vals[a,0]+1),0,0),-vals[a,1]]\n",
    "        else:\n",
    "            m2[k]=[]\n",
    "    \n",
    "    return m2"
   ]
  },
  {
   "cell_type": "code",
   "execution_count": 33,
   "metadata": {},
   "outputs": [
    {
     "name": "stdout",
     "output_type": "stream",
     "text": [
      "cat ../tmp/Drosophila_melanogaster.BDGP6.95.gff3 | awk -F $'\t' 'BEGIN{types[\"mRNA\"]=1; types[\"ncRNA\"]=1; types[\"pre_miRNA\"]=1; types[\"pseudogenic_transcript\"]=1; types[\"rRNA\"]=1; types[\"snRNA\"]=1; types[\"snoRNA\"]=1; types[\"tRNA\"]=1; OFS=\"\t\"}(/^#/){next;}($3 in types){delete xarr; delete yy; delete zz; x=$9; split(x,xarr,\";\"); for (i=1; i<=length(xarr); i++) {split(xarr[i],yy,\"=\"); zz[yy[1]]=yy[2];}; print zz[\"transcript_id\"], $4, $5, $7, $1}'\n",
      "cat ../tmp/Drosophila_melanogaster.BDGP6.95.gff3 | awk -F $'\t' 'BEGIN{OFS=\"\t\"}((!/^#/) && $3==\"exon\"){delete xarr; delete yy; delete zz; x=$9; split(x,xarr,\";\"); for (i=1; i<=length(xarr); i++) {split(xarr[i],yy,\"=\"); zz[yy[1]]=yy[2];}; print substr(zz[\"Parent\"],12), $4, $5}'\n"
     ]
    }
   ],
   "source": [
    "dmel_exons=make_exons_dict_fromGFF(\"Drosophila_melanogaster.BDGP6.95.gff3\")"
   ]
  },
  {
   "cell_type": "markdown",
   "metadata": {},
   "source": [
    "Verify that the exons dictionnary looks fine"
   ]
  },
  {
   "cell_type": "code",
   "execution_count": 34,
   "metadata": {},
   "outputs": [
    {
     "data": {
      "text/plain": [
       "{'FBtr0076316': ['3L',\n",
       "  array([   0,  359,  541, 2112]),\n",
       "  array([-10089400, -10088979, -10088317])],\n",
       " 'FBtr0112861': ['2R',\n",
       "  array([   0,   58,  203,  550,  784,  862,  962, 1312]),\n",
       "  array([18819467, 18819621, 18820196, 18820605, 18821041, 18821184, 18821490])],\n",
       " 'FBtr0307368': ['3L',\n",
       "  array([   0,  206,  401,  628,  916, 1028, 1183, 1656, 2042, 2163, 2344,\n",
       "         2494, 2616, 2709, 2856, 3015, 3160, 3255, 3415, 3513, 3604, 3718,\n",
       "         3868, 4029, 4163, 4273, 4443, 4625, 4750, 6246]),\n",
       "  array([-16543370, -16539340, -16530656, -16529914, -16522910, -16521032,\n",
       "         -16520541, -16518596, -16518146, -16517660, -16516801, -16515978,\n",
       "         -16514449, -16513480, -16513123, -16511175, -16510966, -16510810,\n",
       "         -16510434, -16510108, -16509942, -16508614, -16508065, -16507467,\n",
       "         -16506486, -16505230, -16504941, -16504446, -16503529])]}"
      ]
     },
     "execution_count": 34,
     "metadata": {},
     "output_type": "execute_result"
    }
   ],
   "source": [
    "{k:v for i, (k,v) in enumerate(dmel_exons.items()) if i<3}"
   ]
  },
  {
   "cell_type": "markdown",
   "metadata": {},
   "source": [
    "Now we can save this dictionnary"
   ]
  },
  {
   "cell_type": "code",
   "execution_count": 35,
   "metadata": {
    "collapsed": true
   },
   "outputs": [],
   "source": [
    "import pickle\n",
    "with open(\"annotation.gff3.pickle\", 'wb') as handle:\n",
    "    pickle.dump(dmel_exons, handle, protocol=pickle.HIGHEST_PROTOCOL)"
   ]
  },
  {
   "cell_type": "markdown",
   "metadata": {},
   "source": [
    "### Make an annotation table and exons dictionnary for the gene bodies"
   ]
  },
  {
   "cell_type": "markdown",
   "metadata": {},
   "source": [
    "We adjust the annotation table generation to get the gene bodies as opposed to transcripts. The genebodies are not just entered as gene, as seen by:\n",
    "\n",
    "```bash\n",
    "cat Drosophila_melanogaster.BDGP6.95.gff3 | awk '(substr($9,1,7)==\"ID=gene\")' | cut -f3,3 | sort | uniq\n",
    "```\n",
    "\n",
    "so we need\n",
    "\n",
    "```bash\n",
    "awk -F $'\\t' 'BEGIN{x[\"ID\"]=1; y[1]=0; z[\"ID\"]=1; types[\"gene\"]=1; types[\"ncRNA_gene\"]=1; types[\"pseudogene\"]=1; OFS=\"\\t\"}(/^#/){next;}($3 in types){delete x; delete y; delete z; split($9, x,\";\"); for (i = 0; ++i <= length(x);){split(x[i],y,\"=\"); z[y[1]]=y[2];}; s=$5-$4; print z[\"gene_id\"], z[\"Name\"], z[\"biotype\"], $7, s}' Drosophila_melanogaster.BDGP6.95.gff3 > tableGENES.withStrand_GENEBODIES.txt\n",
    "```"
   ]
  },
  {
   "cell_type": "markdown",
   "metadata": {},
   "source": [
    "And now the exons dictionnary"
   ]
  },
  {
   "cell_type": "code",
   "execution_count": 38,
   "metadata": {
    "collapsed": true
   },
   "outputs": [],
   "source": [
    "def make_genebodies_dict_fromGFF(gff_file, nmax=0):\n",
    "    m={}\n",
    "    \n",
    "    cmd = \"cat \"+gff_file+\"\"\" | awk -F $'\\t' 'BEGIN{types[\"gene\"]=1; types[\"ncRNA_gene\"]=1; types[\"pseudogene\"]=1; OFS=\"\\t\"}(/^#/){next;}($3 in types)\"\"\"\n",
    "    cmd+=\"\"\"{delete xarr; delete yy; delete zz; x=$9; split(x,xarr,\\\";\\\"); for (i=1; i<=length(xarr); i++)\"\"\"\n",
    "    cmd+=\"\"\" {split(xarr[i],yy,\"=\"); zz[yy[1]]=yy[2];}; print zz[\"gene_id\"], $4, $5, $7, $1}'\"\"\"\n",
    "    \n",
    "    print(cmd)\n",
    "    p = subprocess.Popen(cmd, shell=True, stdout=subprocess.PIPE, bufsize=1, universal_newlines=True, start_new_session=True)\n",
    "    nok=0\n",
    "    for _, line in enumerate(p.stdout):\n",
    "        if nmax>0 and nok>nmax:\n",
    "            break\n",
    "        read_data=line.strip().split(\"\\t\") \n",
    "        T_id=read_data[0] #transcript I\n",
    "        \n",
    "        if T_id in m:\n",
    "            print(\"oops, already found\")\n",
    "#             m[T_id]+=[read_data[3],read_data[1],read_data[2]]\n",
    "        else:\n",
    "            nok+=1\n",
    "            readstrand=int(1) if read_data[3]==\"+\" else int(-1)\n",
    "            m[T_id]=[readstrand,int(read_data[1]),int(read_data[2]),read_data[4]]\n",
    "            \n",
    "    p.terminate()\n",
    "    del p\n",
    "    \n",
    "    m2={}\n",
    "    cmd = \"cat \"+gff_file+\"\"\" | awk -F $'\\t' 'BEGIN{types[\"gene\"]=1; types[\"ncRNA_gene\"]=1; types[\"pseudogene\"]=1; OFS=\"\\t\"}(/^#/){next;}($3 in types)\"\"\"\n",
    "    cmd+=\"\"\"{delete xarr; delete yy; delete zz; x=$9; split(x,xarr,\\\";\\\"); for (i=1; i<=length(xarr); i++)\"\"\"\n",
    "    cmd+=\"\"\" {split(xarr[i],yy,\"=\"); zz[yy[1]]=yy[2];}; print zz[\"gene_id\"], $4, $5}'\"\"\"\n",
    "    print(cmd)\n",
    "    p = subprocess.Popen(cmd, shell=True, stdout=subprocess.PIPE, bufsize=1, universal_newlines=True, start_new_session=True)\n",
    "    nok=0\n",
    "    for _, line in enumerate(p.stdout):\n",
    "        if nmax>0 and nok>nmax:\n",
    "            break\n",
    "        read_data=line.strip().split(\"\\t\") \n",
    "        T_id=read_data[0] #transcript I\n",
    "        \n",
    "        vals=m2.pop(T_id,[])\n",
    "        if len(vals)>0:\n",
    "            \n",
    "            m2[T_id]=np.vstack([vals,np.array([int(read_data[1]),int(read_data[2])])])\n",
    "        else:\n",
    "            nok+=1\n",
    "            m2[T_id]=np.array([[int(read_data[1]),int(read_data[2])]])\n",
    "    \n",
    "    p.terminate()\n",
    "    del p\n",
    "    \n",
    "    for k, v in m.items():\n",
    "        vals=m2.pop(k,[])\n",
    "        if len(vals)>0:\n",
    "            if v[0]==1:\n",
    "                a=np.argsort(vals[:,0])\n",
    "                m2[k]=[v[3],np.insert(np.cumsum(vals[a,1]-vals[a,0]+1),0,0),vals[a,0]]\n",
    "            else:\n",
    "                a=np.argsort(-vals[:,1])\n",
    "                m2[k]=[v[3],np.insert(np.cumsum(vals[a,1]-vals[a,0]+1),0,0),-vals[a,1]]\n",
    "        else:\n",
    "            m2[k]=[]\n",
    "    \n",
    "    return m2"
   ]
  },
  {
   "cell_type": "code",
   "execution_count": 39,
   "metadata": {},
   "outputs": [
    {
     "name": "stdout",
     "output_type": "stream",
     "text": [
      "cat ../tmp/Drosophila_melanogaster.BDGP6.95.gff3 | awk -F $'\t' 'BEGIN{types[\"gene\"]=1; types[\"ncRNA_gene\"]=1; types[\"pseudogene\"]=1; OFS=\"\t\"}(/^#/){next;}($3 in types){delete xarr; delete yy; delete zz; x=$9; split(x,xarr,\";\"); for (i=1; i<=length(xarr); i++) {split(xarr[i],yy,\"=\"); zz[yy[1]]=yy[2];}; print zz[\"gene_id\"], $4, $5, $7, $1}'\n",
      "cat ../tmp/Drosophila_melanogaster.BDGP6.95.gff3 | awk -F $'\t' 'BEGIN{types[\"gene\"]=1; types[\"ncRNA_gene\"]=1; types[\"pseudogene\"]=1; OFS=\"\t\"}(/^#/){next;}($3 in types){delete xarr; delete yy; delete zz; x=$9; split(x,xarr,\";\"); for (i=1; i<=length(xarr); i++) {split(xarr[i],yy,\"=\"); zz[yy[1]]=yy[2];}; print zz[\"gene_id\"], $4, $5}'\n"
     ]
    },
    {
     "data": {
      "text/plain": [
       "{'FBgn0003495': ['3R', array([   0, 5081]), array([-27070070])],\n",
       " 'FBgn0053443': ['2R', array([  0, 135]), array([-19733060])],\n",
       " 'FBgn0267115': ['3R', array([  0, 698]), array([31473041])]}"
      ]
     },
     "execution_count": 39,
     "metadata": {},
     "output_type": "execute_result"
    }
   ],
   "source": [
    "dmel_genebodies=make_genebodies_dict_fromGFF(\"Drosophila_melanogaster.BDGP6.95.gff3\")\n",
    "{k:v for i, (k,v) in enumerate(dmel_genebodies.items()) if i<3}"
   ]
  },
  {
   "cell_type": "markdown",
   "metadata": {},
   "source": [
    "Everything looks fine so we can save it"
   ]
  },
  {
   "cell_type": "code",
   "execution_count": 40,
   "metadata": {
    "collapsed": true
   },
   "outputs": [],
   "source": [
    "with open(\"annotation_GENEBODIES.gff3.pickle\", 'wb') as handle:\n",
    "    pickle.dump(dmel_genebodies, handle, protocol=pickle.HIGHEST_PROTOCOL)"
   ]
  },
  {
   "cell_type": "markdown",
   "metadata": {},
   "source": [
    "## Drosophila, GFF3 from NCBI"
   ]
  },
  {
   "cell_type": "markdown",
   "metadata": {},
   "source": [
    "### Download GFF3\n",
    "The GFF file is downloaded from here : <https://www.ncbi.nlm.nih.gov/genome?term=vih&cmd=DetailsSearch>\n",
    "\n",
    "In progress..."
   ]
  },
  {
   "cell_type": "markdown",
   "metadata": {},
   "source": []
  }
 ],
 "metadata": {
  "kernelspec": {
   "display_name": "Astro",
   "language": "python",
   "name": "astro"
  },
  "language_info": {
   "codemirror_mode": {
    "name": "ipython",
    "version": 3
   },
   "file_extension": ".py",
   "mimetype": "text/x-python",
   "name": "python",
   "nbconvert_exporter": "python",
   "pygments_lexer": "ipython3",
   "version": "3.5.4"
  }
 },
 "nbformat": 4,
 "nbformat_minor": 2
}
