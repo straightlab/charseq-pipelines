{
 "cells": [
  {
   "cell_type": "markdown",
   "metadata": {},
   "source": [
    "In this notebook we prepare Bowtie2, STAR and SALMON indexes for the X.Laevis genome v9.2 using gff3 annotations for xenbase, hereon refered to as Xenla. \n",
    "Please refer to the notebook called pipeline_prepare-annotations_XenopusLaevis for instructions on how to generate the transcriptome fasta file, as well as how to generate annotation files used by the ChaAR-seq pipelines."
   ]
  },
  {
   "cell_type": "markdown",
   "metadata": {},
   "source": [
    "## Make a bowtie index"
   ]
  },
  {
   "cell_type": "code",
   "execution_count": null,
   "metadata": {
    "collapsed": true
   },
   "outputs": [],
   "source": [
    "# Let's say we downloaded the Xenla genome in $GENOMES_ROOT/xenopus_laevis/v9.2\n",
    "\n",
    "GENOMES_ROOT = \"<root_folder_of_genomes>\"\n",
    "cd \"${GENOMES_ROOT}/xenopus_laevis/v9.2\"\n",
    "mkdir -p bowtie_index\n",
    "bowtie2-build --threads 8 XL9_2.fa.gz bowtie_index/genome"
   ]
  },
  {
   "cell_type": "markdown",
   "metadata": {},
   "source": [
    "## Make a STAR index"
   ]
  },
  {
   "cell_type": "markdown",
   "metadata": {},
   "source": [
    "\n",
    "We previously (notebook 01) downloaded the gff file.\n",
    "```bash\n",
    "\n",
    "cd \"${GENOMES_ROOT}/xenopus_laevis/v9.2/annotations_xenbase\"\n",
    "\n",
    "```\n",
    "\n",
    "Normally, STAR generate the splice junction and transcript annotation database by parsing the GFF3 file and looking for the \"exon\" features, which are then assigned to specific transcripts using the parent-child relationship indicated in the \"transcript_id\" field of the exon.\n",
    "\n",
    "This STAR behavior is determined by the arguments\n",
    "\n",
    "--sjdbGTFfeatureExon exon\n",
    "--sjdbGTFtagExonParentTranscript transcript_id\n",
    "\n",
    "We need to modify this to account for the idiosyncracy of the xenbase annotation file where the parent is given by the field \"Parent\"\n",
    "\n",
    "Therefore our star index builiding command should be\n",
    "\n",
    "```bash\n",
    "mkdir -p STAR_index\n",
    "\n",
    "STAR --runMode genomeGenerate --runThreadN 12 --genomeDir STAR_index --genomeFastaFiles ../XL9_2.fa --sjdbGTFfile XENLA_9.2_Xenbase.gff3 --sjdbOverhang 150 --sjdbGTFtagExonParentTranscript Parent --sjdbGTFfeatureExon exon --genome ChrBinNbits 12\n",
    "```"
   ]
  },
  {
   "cell_type": "markdown",
   "metadata": {},
   "source": [
    "## Make a STAR index for genebodies\n",
    "\n",
    "In tagtools,  exons take priority over introns. When a read doens't align to any exonic portion of any annotatated transcript, then tagtools checks if the alignment overlaps with any intron (or intron/exon junction). To do that, we use a trick where we run star with a gff file where the transcripts are the gene bodies rather true transcripts. This can be done using the same gff file but by setting `--sjdbGTFtagExonParentTranscript ID --sjdbGTFfeatureExon gene` when we build the index.\n",
    "\n",
    "```bash\n",
    "mkdir -p STAR_index_GENEBODIES\n",
    "\n",
    "STAR --runMode genomeGenerate --runThreadN 12 --genomeDir STAR_index_GENEBODIES --genomeFastaFiles ../XL9_2.fa --sjdbGTFfile XENLA_9.2_Xenbase.gff3 --sjdbOverhang 150 --sjdbGTFtagExonParentTranscript ID --sjdbGTFfeatureExon gene --genomeChrBinNbits 12\n",
    "```"
   ]
  },
  {
   "cell_type": "markdown",
   "metadata": {},
   "source": [
    "## Make SALMON index\n",
    "\n",
    "This makes a salmon index for the genebodies (includes introns).\n",
    "```bash\n",
    "\n",
    "cd \"${GENOMES_ROOT}/xenopus_laevis/v9\"\n",
    "mkdir SALMON_index_v0.14\n",
    "cd  SALMON_index_v0\n",
    "\n",
    "salmon index -t ../XENLA_9.2_transcriptome.fa -i k21_index -k 21 -p 6\n",
    "```\n",
    "\n",
    "We want also (mostly in fact) a salmon index for the genes (exons only). We need to use the other transcritome file\n",
    "```bash\n",
    "salmon index -t ../XENLA_9.2_transcriptome_NOINTRONS_fastcompute.fa -i k21_index_exonsONLY -k 21 -p 12\n",
    "```\n",
    "\n",
    "Also, finally, there are solo exons (parent are genes not rna) that we can also incorporate in yet another index\n",
    "```bash\n",
    "salmon index -t ../XENLA_9.2_transcriptome_NOINTRONS_fastcompute_ALL.fa -i k21_index_exonsONLY_ALL -k 21 -p 12\n",
    "```"
   ]
  },
  {
   "cell_type": "code",
   "execution_count": null,
   "metadata": {
    "collapsed": true
   },
   "outputs": [],
   "source": []
  }
 ],
 "metadata": {
  "kernelspec": {
   "display_name": "charseq",
   "language": "python",
   "name": "charseq"
  },
  "language_info": {
   "codemirror_mode": {
    "name": "ipython",
    "version": 3
   },
   "file_extension": ".py",
   "mimetype": "text/x-python",
   "name": "python",
   "nbconvert_exporter": "python",
   "pygments_lexer": "ipython3",
   "version": "3.6.3"
  }
 },
 "nbformat": 4,
 "nbformat_minor": 2
}
