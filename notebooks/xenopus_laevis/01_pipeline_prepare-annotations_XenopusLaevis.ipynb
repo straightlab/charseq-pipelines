{
 "cells": [
  {
   "cell_type": "markdown",
   "metadata": {},
   "source": [
    "# Xenopus Laevis Annotations and transcriptome generation for ChAR-seq"
   ]
  },
  {
   "cell_type": "markdown",
   "metadata": {},
   "source": [
    "In this notebook, we prepare the \"annotation files\" required by tagtools to annotate the reads with transcript IDs and names. We aslo prepare a transcriptome form the gff3 file and the genome fa.\n",
    "\n",
    "The starting point is a GFF3 file for Xenopus Laevis. GFF3 files for different species and from different databases are organized somewhat differently, so one needs to modify the steps below according to the specifics of the GFF file. Here, we take care of the Xenla database for XLaevis 9.2.\n"
   ]
  },
  {
   "cell_type": "markdown",
   "metadata": {},
   "source": [
    "## XLaevis, GFF3 from Xenbase, database XENLA_9.2"
   ]
  },
  {
   "cell_type": "markdown",
   "metadata": {},
   "source": [
    "### Download GFF3\n",
    "\n",
    "\n",
    "```bash\n",
    "# Let's say we downloaded the Xenla genome in $GENOMES_ROOT/xenopus_laevis/v9.2\n",
    "\n",
    "GENOMES_ROOT = \"<root_folder_of_genomes>\"\n",
    "cd \"${GENOMES_ROOT}/xenopus_laevis/v9.2\"\n",
    "mkdir annotations_xenbase\n",
    "cd annotations_xenbase\n",
    "curl -o XENLA_9.2_Xenbase.gff3  http://ftp.xenbase.org/pub/Genomics/JGI/Xenla9.2/XENLA_9.2_Xenbase.gff3\n",
    "\n",
    "# OR vis ftp\n",
    "# wget ftp://ftp.xenbase.org/pub/Genomics/JGI/Xenla9.2/XENLA_9.2_Xenbase.gff3\n",
    "```"
   ]
  },
  {
   "cell_type": "markdown",
   "metadata": {},
   "source": [
    "### Make an annotation table"
   ]
  },
  {
   "cell_type": "markdown",
   "metadata": {},
   "source": [
    "First we need to make a simple \"annotation\" table, which is a simple text file which links a transcript ID to a gene name, type, strand and length. This table will be used by tagtools for annotating the reads with actual transcript id and name. The file should look like this (taken from human `genconde.v29.tableGENES.withStrand.txt`)\n",
    "\n",
    "```txt\n",
    "ENST00000000233.9       ENSG00000004059.10      ARF5    protein_coding  +       3360\n",
    "ENST00000000412.7       ENSG00000003056.7       M6PR    protein_coding  -       9590\n",
    "ENST00000000442.10      ENSG00000173153.13      ESRRA   protein_coding  +       11160\n",
    "```\n",
    "\n",
    "For the Xenla, the desired features have the following labels: \n",
    "lnc_RNA\n",
    "mRNA\n",
    "ncRNA\n",
    "rRNA\n",
    "snRNA\n",
    "snoRNA\n",
    "tRNA\n",
    "telomerase_RNA\n",
    "transcript\n",
    " as we can see from \n",
    "\n",
    "```bash\n",
    "cat XENLA_9.2_Xenbase.gff3 | grep -v \"#\" | cut -f3 | sort | uniq\n",
    "```\n",
    "\n",
    "Therefore the proper command is \n",
    "\n",
    "```bash\n",
    "awk -F $'\\t' 'BEGIN{types[\"mRNA\"]=1; types[\"ncRNA\"]=1; types[\"lnc_RNA\"]=1; types[\"telomerase_RNA\"]=1; types[\"snRNA\"]=1; types[\"snoRNA\"]=1; types[\"transcript\"]=1; OFS=\"\\t\"}(/^#/){next;}($3 in types){delete x; delete y; delete z; split($9, x,\";\"); for (i = 0; ++i <= length(x);){split(x[i],y,\"=\"); z[y[1]]=y[2];}; s=$5-$4; if (length(z[\"gene\"])==0){z[\"gene\"]=z[\"ID\"];}; print z[\"ID\"], z[\"Parent\"], z[\"gene\"], $3, $7, s}' XENLA_9.2_Xenbase.gff3 > XENLA_9.2_tableTX.txt\n",
    "```\n",
    "\n",
    "This file looks like\n",
    "```text\n",
    "rna87247\tgene43722\tLOC108705380\tmRNA\t-\t2584\n",
    "rna96750\tgene50311\tLOC108705381\tmRNA\t-\t29344\n",
    "rna31304\tgene10772\trna31304\tmRNA\t+\t8006\n",
    "rna31305\tgene10772\tLOC108705386\tmRNA\t+\t7148\n",
    "rna78199\tgene37470\tLOC108705383\tmRNA\t+\t70477\n",
    "rna74114\tgene34519\tLOC108705385\tlnc_RNA\t+\t6552\n",
    "```"
   ]
  },
  {
   "cell_type": "markdown",
   "metadata": {},
   "source": [
    "### Make the exons dictionnary\n",
    "In order to convert transcriptome coordinates to genomic coordinates, tagtools require a python dictionnary which contains the location of the splice junctions for each transcript. For now, we are doing this manually by adjusting the definition of the function below to account for the features of the specific gtf file we are interested in. This function will create a python dictionnary which we will save as a pickle file (this will be changed into json file in a future release) "
   ]
  },
  {
   "cell_type": "code",
   "execution_count": 11,
   "metadata": {
    "collapsed": true
   },
   "outputs": [],
   "source": [
    "import subprocess\n",
    "import numpy as np\n",
    "import os\n",
    "def make_exons_dict_fromGFF(gff_file, nmax=0):\n",
    "    m={}\n",
    "    \n",
    "    cmd = \"cat \"+gff_file+\"\"\" | awk -F $'\\t' 'BEGIN{types[\"mRNA\"]=1; types[\"ncRNA\"]=1; types[\"lnc_RNA\"]=1; types[\"telomerase_RNA\"]=1; types[\"snRNA\"]=1; types[\"snoRNA\"]=1; types[\"transcript\"]=1; types[\"gene\"]=1; types[\"tRNA\"]=1; types[\"rRNA\"]=1; types[\"C_gene_segment\"]=1; types[\"V_gene_segment\"]=1; OFS=\"\\t\"}(/^#/){next;}($3 in types)\"\"\"\n",
    "    cmd+=\"\"\"{delete xarr; delete yy; delete zz; x=$9; split(x,xarr,\\\";\\\"); for (i=1; i<=length(xarr); i++)\"\"\"\n",
    "    cmd+=\"\"\" {split(xarr[i],yy,\"=\"); zz[yy[1]]=yy[2];}; print zz[\"ID\"], $4, $5, $7, $1}'\"\"\"\n",
    "    \n",
    "    print(cmd)\n",
    "    p = subprocess.Popen(cmd, shell=True, stdout=subprocess.PIPE, bufsize=1, universal_newlines=True, start_new_session=True)\n",
    "    nok=0\n",
    "    for _, line in enumerate(p.stdout):\n",
    "        if nmax>0 and nok>nmax:\n",
    "            break\n",
    "        read_data=line.strip().split(\"\\t\") \n",
    "        T_id=read_data[0] #transcript I\n",
    "        \n",
    "        if T_id in m:\n",
    "            print(\"oops, already found\")\n",
    "#             m[T_id]+=[read_data[3],read_data[1],read_data[2]]\n",
    "        else:\n",
    "            nok+=1\n",
    "            readstrand=int(1) if read_data[3]==\"+\" else int(-1)\n",
    "            m[T_id]=[readstrand,int(read_data[1]),int(read_data[2]),read_data[4]]\n",
    "            \n",
    "    p.terminate()\n",
    "    del p\n",
    "    \n",
    "    m2={}\n",
    "    cmd = \"cat \"+gff_file+\"\"\" | awk -F $'\\t' 'BEGIN{OFS=\"\\t\"}((!/^#/) && $3==\"exon\")\"\"\"\n",
    "    cmd+=\"\"\"{delete xarr; delete yy; delete zz; x=$9; split(x,xarr,\\\";\\\"); for (i=1; i<=length(xarr); i++)\"\"\"\n",
    "    cmd+=\"\"\" {split(xarr[i],yy,\"=\"); zz[yy[1]]=yy[2];}; print zz[\"Parent\"], $4, $5}'\"\"\"\n",
    "    print(cmd)\n",
    "    p = subprocess.Popen(cmd, shell=True, stdout=subprocess.PIPE, bufsize=1, universal_newlines=True, start_new_session=True)\n",
    "    nok=0\n",
    "    for _, line in enumerate(p.stdout):\n",
    "        if nmax>0 and nok>nmax:\n",
    "            break\n",
    "        read_data=line.strip().split(\"\\t\") \n",
    "        T_id=read_data[0] #transcript I\n",
    "        \n",
    "        vals=m2.pop(T_id,[])\n",
    "        if len(vals)>0:\n",
    "            \n",
    "            m2[T_id]=np.vstack([vals,np.array([int(read_data[1]),int(read_data[2])])])\n",
    "        else:\n",
    "            nok+=1\n",
    "            m2[T_id]=np.array([[int(read_data[1]),int(read_data[2])]])\n",
    "    \n",
    "    p.terminate()\n",
    "    del p\n",
    "    \n",
    "    for k, v in m.items():\n",
    "        vals=m2.pop(k,[])\n",
    "        if len(vals)>0:\n",
    "            if v[0]==1:\n",
    "                a=np.argsort(vals[:,0])\n",
    "                m2[k]=[v[3],np.insert(np.cumsum(vals[a,1]-vals[a,0]+1),0,0),vals[a,0]]\n",
    "            else:\n",
    "                a=np.argsort(-vals[:,1])\n",
    "                m2[k]=[v[3],np.insert(np.cumsum(vals[a,1]-vals[a,0]+1),0,0),-vals[a,1]]\n",
    "        else:\n",
    "            m2[k]=[]\n",
    "    \n",
    "    m3={k:v for k, v in m2.items() if len(v)>0}\n",
    "    \n",
    "    \n",
    "    return m3"
   ]
  },
  {
   "cell_type": "code",
   "execution_count": 12,
   "metadata": {},
   "outputs": [
    {
     "name": "stdout",
     "output_type": "stream",
     "text": [
      "cat XENLA_9.2_Xenbase.gff3 | awk -F $'\t' 'BEGIN{types[\"mRNA\"]=1; types[\"ncRNA\"]=1; types[\"lnc_RNA\"]=1; types[\"telomerase_RNA\"]=1; types[\"snRNA\"]=1; types[\"snoRNA\"]=1; types[\"transcript\"]=1; types[\"gene\"]=1; types[\"tRNA\"]=1; types[\"rRNA\"]=1; types[\"C_gene_segment\"]=1; types[\"V_gene_segment\"]=1; OFS=\"\t\"}(/^#/){next;}($3 in types){delete xarr; delete yy; delete zz; x=$9; split(x,xarr,\";\"); for (i=1; i<=length(xarr); i++) {split(xarr[i],yy,\"=\"); zz[yy[1]]=yy[2];}; print zz[\"ID\"], $4, $5, $7, $1}'\n",
      "cat XENLA_9.2_Xenbase.gff3 | awk -F $'\t' 'BEGIN{OFS=\"\t\"}((!/^#/) && $3==\"exon\"){delete xarr; delete yy; delete zz; x=$9; split(x,xarr,\";\"); for (i=1; i<=length(xarr); i++) {split(xarr[i],yy,\"=\"); zz[yy[1]]=yy[2];}; print zz[\"Parent\"], $4, $5}'\n"
     ]
    }
   ],
   "source": [
    "xenla_exons=make_exons_dict_fromGFF(\"XENLA_9.2_Xenbase.gff3\")"
   ]
  },
  {
   "cell_type": "markdown",
   "metadata": {},
   "source": [
    "Verify that the exons dictionnary looks fine"
   ]
  },
  {
   "cell_type": "code",
   "execution_count": 14,
   "metadata": {},
   "outputs": [
    {
     "data": {
      "text/plain": [
       "{'gene34525': ['MT', array([ 0, 69]), array([9038])],\n",
       " 'gene34778': ['MT', array([  0, 819]), array([2205])],\n",
       " 'gene36167': ['MT', array([ 0, 71]), array([-7226])],\n",
       " 'gene37689': ['MT', array([ 0, 65]), array([13716])],\n",
       " 'gene38299': ['Scaffold100', array([  0, 943]), array([35531])],\n",
       " 'gene40118': ['MT', array([ 0, 69]), array([-17553])],\n",
       " 'gene40294': ['MT', array([ 0, 69]), array([7015])],\n",
       " 'gene40993': ['MT', array([ 0, 69]), array([5910])],\n",
       " 'gene41118': ['MT', array([ 0, 69]), array([11905])],\n",
       " 'gene42065': ['MT', array([ 0, 69]), array([2136])],\n",
       " 'gene42179': ['MT', array([ 0, 70]), array([-7394])],\n",
       " 'gene43253': ['MT', array([ 0, 75]), array([4724])],\n",
       " 'gene43286': ['MT', array([ 0, 70]), array([11492])],\n",
       " 'gene44223': ['MT', array([ 0, 74]), array([13781])],\n",
       " 'gene44770': ['MT', array([   0, 1631]), array([3093])],\n",
       " 'gene44846': ['MT', array([ 0, 75]), array([9797])],\n",
       " 'gene46399': ['MT', array([ 0, 69]), array([-7154])],\n",
       " 'gene47030': ['MT', array([ 0, 71]), array([-5910])],\n",
       " 'gene47737': ['MT', array([ 0, 68]), array([13648])],\n",
       " 'gene48202': ['MT', array([ 0, 69]), array([3024])],\n",
       " 'gene48868': ['MT', array([ 0, 71]), array([-9022])],\n",
       " 'gene49848': ['MT', array([ 0, 71]), array([5770])],\n",
       " 'gene50117': ['MT', array([ 0, 66]), array([-7325])],\n",
       " 'gene50683': ['MT', array([ 0, 69]), array([-16246])],\n",
       " 'gene50780': ['MT', array([ 0, 70]), array([17388])],\n",
       " 'rna10617': ['Scaffold104',\n",
       "  array([   0,   82,  216,  382,  571,  687,  822,  890, 2424]),\n",
       "  array([-298293, -291738, -291365, -291111, -288358, -287880, -286699,\n",
       "         -285259])],\n",
       " 'rna10618': ['Scaffold104',\n",
       "  array([   0,   82,  216,  382,  571,  687,  819,  887, 1958]),\n",
       "  array([-298293, -291738, -291365, -291111, -288358, -287877, -286699,\n",
       "         -285259])],\n",
       " 'rna10619': ['Scaffold104',\n",
       "  array([   0,  179,  313,  479,  668,  784,  919, 1005, 2083]),\n",
       "  array([-298384, -291738, -291365, -291111, -288358, -287880, -286699,\n",
       "         -285259])],\n",
       " 'rna10620': ['Scaffold104',\n",
       "  array([   0,  179,  313,  479,  668,  784,  919,  987, 2065]),\n",
       "  array([-298384, -291738, -291365, -291111, -288358, -287880, -286699,\n",
       "         -285259])],\n",
       " 'rna10621': ['Scaffold104',\n",
       "  array([   0,  180,  314,  480,  669,  785,  917, 1003, 2081]),\n",
       "  array([-298385, -291738, -291365, -291111, -288358, -287877, -286699,\n",
       "         -285259])],\n",
       " 'rna10622': ['Scaffold104',\n",
       "  array([   0,  174,  308,  474,  663,  779,  914, 1000, 2078]),\n",
       "  array([-298385, -291738, -291365, -291111, -288358, -287880, -286699,\n",
       "         -285259])],\n",
       " 'rna10623': ['Scaffold104',\n",
       "  array([   0,  174,  308,  474,  663,  779,  911,  997, 2075]),\n",
       "  array([-298385, -291738, -291365, -291111, -288358, -287877, -286699,\n",
       "         -285259])],\n",
       " 'rna10624': ['Scaffold104',\n",
       "  array([   0,  181,  490,  624,  790,  979, 1095, 1230, 1316, 2394]),\n",
       "  array([-298386, -292298, -291738, -291365, -291111, -288358, -287880,\n",
       "         -286699, -285259])],\n",
       " 'rna10625': ['Scaffold104',\n",
       "  array([   0,  175,  484,  618,  784,  973, 1089, 1224, 1310, 2388]),\n",
       "  array([-298386, -292298, -291738, -291365, -291111, -288358, -287880,\n",
       "         -286699, -285259])],\n",
       " 'rna10626': ['Scaffold104',\n",
       "  array([   0,  181,  475,  609,  775,  964, 1080, 1215, 1301, 2379]),\n",
       "  array([-298386, -292298, -291738, -291365, -291111, -288358, -287880,\n",
       "         -286699, -285259])],\n",
       " 'rna10627': ['Scaffold104',\n",
       "  array([   0,   82,  216,  382,  571,  687,  819,  887, 1960]),\n",
       "  array([-298293, -291738, -291365, -291111, -288358, -287877, -286699,\n",
       "         -285259])],\n",
       " 'rna12226': ['Scaffold103',\n",
       "  array([   0,   48,  207,  293, 2105]),\n",
       "  array([-17294, -16729, -16445, -14424])],\n",
       " 'rna12227': ['Scaffold103',\n",
       "  array([   0,  676,  762, 1580]),\n",
       "  array([-17246, -16445, -14424])],\n",
       " 'rna16483': ['Scaffold103',\n",
       "  array([   0,   61,  173,  274,  419,  555,  676,  777, 1895]),\n",
       "  array([-43812, -41061, -38782, -35215, -32877, -32469, -31099, -27530])],\n",
       " 'rna16484': ['Scaffold103',\n",
       "  array([   0,   49,  161,  262,  407,  543,  664,  765, 1883]),\n",
       "  array([-43800, -41061, -38782, -35215, -32877, -32469, -31099, -27530])],\n",
       " 'rna16485': ['Scaffold103',\n",
       "  array([   0,  114,  226,  327,  472,  608,  729,  830, 1338]),\n",
       "  array([-43870, -41061, -38782, -35215, -32877, -32469, -31099, -27530])],\n",
       " 'rna17316': ['Scaffold105',\n",
       "  array([   0,  154, 2921]),\n",
       "  array([-162553, -160568])],\n",
       " 'rna17317': ['Scaffold105',\n",
       "  array([   0,   74, 2372]),\n",
       "  array([-162473, -160568])],\n",
       " 'rna1732': ['Scaffold102',\n",
       "  array([   0,  532, 4352]),\n",
       "  array([289263, 301693])],\n",
       " 'rna1733': ['Scaffold102',\n",
       "  array([   0,  597, 2734]),\n",
       "  array([289198, 301693])],\n",
       " 'rna20604': ['Scaffold106',\n",
       "  array([   0,  477, 1015, 1263, 1410, 1567, 1689, 1827, 1915, 2047, 2257,\n",
       "         2389, 2752, 2847, 2997, 3098, 3272, 4535]),\n",
       "  array([142543, 143883, 152209, 167981, 168335, 170224, 170898, 171269,\n",
       "         181891, 182170, 182513, 183047, 183680, 185012, 187826, 190479,\n",
       "         192347])],\n",
       " 'rna21603': ['Scaffold103',\n",
       "  array([   0,  192,  360,  587,  859, 3981]),\n",
       "  array([182616, 183057, 194297, 195951, 196588])],\n",
       " 'rna21604': ['Scaffold103',\n",
       "  array([   0,  691,  859, 1086, 1358, 2877]),\n",
       "  array([182117, 183057, 194297, 195951, 196588])],\n",
       " 'rna26108': ['Scaffold104',\n",
       "  array([   0,  667,  728,  777,  829,  893, 1202, 1337, 1460, 1596, 1728,\n",
       "         1848, 1923, 2055, 2169, 3456]),\n",
       "  array([-202727, -200707, -172597, -138142, -137999, -135070, -133645,\n",
       "         -132557, -132331, -130178, -127331, -126113, -125156, -123657,\n",
       "         -121848])],\n",
       " 'rna26109': ['Scaffold104',\n",
       "  array([   0,   34,   45,   68,   79,  544,  605,  654,  706,  770, 1079,\n",
       "         1214, 1337, 1473, 1605, 1725, 1800, 1932, 2046, 2541]),\n",
       "  array([-221333, -219799, -217642, -202826, -202525, -200707, -172597,\n",
       "         -138142, -137999, -135070, -133645, -132557, -132331, -130178,\n",
       "         -127331, -126113, -125156, -123657, -121848])],\n",
       " 'rna31304': ['Scaffold100',\n",
       "  array([  0, 159, 231, 441, 605, 856]),\n",
       "  array([85642, 86672, 90291, 91210, 93398])],\n",
       " 'rna31305': ['Scaffold100',\n",
       "  array([  0, 138, 348, 512, 869]),\n",
       "  array([86606, 90291, 91210, 93398])],\n",
       " 'rna32179': ['Scaffold105',\n",
       "  array([   0,   58,  212,  330,  449,  649,  766,  911, 1010, 1946]),\n",
       "  array([191863, 192132, 193368, 194495, 196189, 199493, 200152, 200408,\n",
       "         200831])],\n",
       " 'rna32180': ['Scaffold105',\n",
       "  array([   0,   61,  215,  333,  452,  652,  769,  914, 1013, 1945]),\n",
       "  array([191860, 192132, 193368, 194495, 196189, 199493, 200152, 200408,\n",
       "         200831])],\n",
       " 'rna36441': ['Scaffold106',\n",
       "  array([   0,  133,  161,  226,  438,  640,  777,  979, 1176, 1287, 4923]),\n",
       "  array([107286, 113890, 115940, 120496, 122140, 122964, 123212, 123739,\n",
       "         124671, 125580])],\n",
       " 'rna36442': ['Scaffold106',\n",
       "  array([   0,  132,  160,  225,  437,  639,  776,  978, 1175, 1286, 1737]),\n",
       "  array([107287, 113890, 115940, 120496, 122140, 122964, 123212, 123739,\n",
       "         124671, 125580])],\n",
       " 'rna38135': ['Scaffold102',\n",
       "  array([   0,  258,  455,  670,  758,  907, 1073, 1165, 1243, 1406, 1489,\n",
       "         1687, 1831, 1959, 2024, 8178]),\n",
       "  array([-136824,  -85105,  -83833,  -82157,  -80853,  -79432,  -79172,\n",
       "          -77945,  -70748,  -64366,  -62839,  -61938,  -58619,  -57680,\n",
       "          -55299])],\n",
       " 'rna38136': ['Scaffold102',\n",
       "  array([   0,  921, 1118, 1333, 1421, 1570, 1736, 1828, 1906, 2069, 2152,\n",
       "         2350, 2494, 2622, 2687, 4515]),\n",
       "  array([-137487,  -85105,  -83833,  -82157,  -80853,  -79432,  -79172,\n",
       "          -77945,  -70748,  -64366,  -62839,  -61938,  -58619,  -57680,\n",
       "          -55299])],\n",
       " 'rna4067': ['Scaffold104',\n",
       "  array([   0,  104,  198,  323,  499,  674,  817, 1058, 1260, 1358, 3516]),\n",
       "  array([84572, 86300, 91008, 91256, 92825, 94635, 94868, 95453, 96037,\n",
       "         97972])],\n",
       " 'rna4068': ['Scaffold104',\n",
       "  array([   0,   34,  137,  231,  356,  532,  707,  850, 1091, 1293, 1391,\n",
       "         3547]),\n",
       "  array([83543, 84573, 86300, 91008, 91256, 92825, 94635, 94868, 95453,\n",
       "         96037, 97972])],\n",
       " 'rna40772': ['Scaffold105',\n",
       "  array([   0,   51,  125,  346,  553,  855,  999, 1189, 1333, 1515, 1810,\n",
       "         2005, 6219]),\n",
       "  array([-237796, -237396, -234288, -223479, -223158, -219532, -217068,\n",
       "         -216442, -216217, -208116, -207442, -206564])],\n",
       " 'rna40773': ['Scaffold105',\n",
       "  array([   0,  555,  776,  983, 1285, 1429, 1619, 1763, 1945, 2240, 2435,\n",
       "         5955]),\n",
       "  array([-237877, -234288, -223479, -223158, -219532, -217068, -216442,\n",
       "         -216217, -208116, -207442, -206564])],\n",
       " 'rna41739': ['Scaffold1000',\n",
       "  array([   0,  189,  438, 1374]),\n",
       "  array([-2366, -2052, -1476])],\n",
       " 'rna41740': ['Scaffold1000',\n",
       "  array([   0,   44,  293, 1032]),\n",
       "  array([-2221, -2052, -1476])],\n",
       " 'rna4614': ['Scaffold105',\n",
       "  array([   0,  147,  297,  374,  516,  590,  653,  695,  770,  846,  956,\n",
       "         1112, 1182, 1268, 1439, 1545, 3706]),\n",
       "  array([251337, 252185, 254258, 254781, 260683, 260836, 261020, 261165,\n",
       "         262088, 262257, 262938, 263250, 266037, 266263, 270448, 271444])],\n",
       " 'rna4615': ['Scaffold105',\n",
       "  array([   0,  264,  414,  491,  633,  707,  770,  812,  887,  963, 1073,\n",
       "         1229, 1299, 1385, 1556, 2691]),\n",
       "  array([251220, 252185, 254258, 254781, 260683, 260836, 261020, 261165,\n",
       "         262088, 262257, 262938, 263250, 266037, 266263, 271444])],\n",
       " 'rna4616': ['Scaffold105',\n",
       "  array([   0,  147,  297,  374,  516,  590,  653,  695,  770,  846,  956,\n",
       "         1112, 1182, 1268, 1439, 1545, 2815]),\n",
       "  array([251337, 252185, 254258, 254781, 260683, 260836, 261020, 261165,\n",
       "         262088, 262257, 262938, 263250, 266037, 266263, 270448, 271444])],\n",
       " 'rna49248': ['Scaffold103',\n",
       "  array([   0,  239,  367,  474,  676,  809, 1056, 1129, 1199, 1285, 1513]),\n",
       "  array([-263133, -261987, -261159, -256252, -255874, -253211, -252876,\n",
       "         -245929, -245685, -245279])],\n",
       " 'rna49249': ['Scaffold103',\n",
       "  array([   0,   30,  238,  366,  473,  675,  808, 1055, 1128, 1198, 1284,\n",
       "         1512]),\n",
       "  array([-268283, -263102, -261987, -261159, -256252, -255874, -253211,\n",
       "         -252876, -245929, -245685, -245279])],\n",
       " 'rna52851': ['Scaffold103',\n",
       "  array([   0,  169,  282,  486,  725,  984, 1125, 1208, 1416, 1602, 1782,\n",
       "         1929, 2067, 2184, 2291, 2433, 2579, 2733, 2844, 3001, 3156, 3308,\n",
       "         3378, 3489, 4044]),\n",
       "  array([156246, 156595, 156852, 157185, 157871, 158214, 158462, 158625,\n",
       "         158912, 159255, 159601, 159887, 160322, 160772, 161208, 161494,\n",
       "         161716, 161953, 162248, 163746, 163978, 164477, 164693, 165979])],\n",
       " 'rna52852': ['Scaffold103',\n",
       "  array([   0,  270,  439,  552,  756,  995, 1254, 1395, 1478, 1686, 1872,\n",
       "         2052, 2199, 2337, 2454, 2561, 2703, 2849, 3003, 3114, 3271, 3426,\n",
       "         3578, 3648, 3759, 4278]),\n",
       "  array([154382, 156246, 156595, 156852, 157185, 157871, 158214, 158462,\n",
       "         158625, 158912, 159255, 159601, 159887, 160322, 160772, 161208,\n",
       "         161494, 161716, 161953, 162248, 163746, 163978, 164477, 164693,\n",
       "         165979])],\n",
       " 'rna52853': ['Scaffold103',\n",
       "  array([   0,  161,  331,  444,  648,  887, 1146, 1287, 1370, 1578, 1764,\n",
       "         1944, 2091, 2229, 2346, 2453, 2595, 2741, 2895, 3006, 3163, 3318,\n",
       "         3470, 3540, 3651, 4170]),\n",
       "  array([154507, 156245, 156595, 156852, 157185, 157871, 158214, 158462,\n",
       "         158625, 158912, 159255, 159601, 159887, 160322, 160772, 161208,\n",
       "         161494, 161716, 161953, 162248, 163746, 163978, 164477, 164693,\n",
       "         165979])],\n",
       " 'rna58390': ['Scaffold1053',\n",
       "  array([  0, 123, 228, 309, 504]),\n",
       "  array([ 757, 1409, 2764, 3082])],\n",
       " 'rna58391': ['Scaffold1053',\n",
       "  array([  0, 101, 182, 556]),\n",
       "  array([1413, 2764, 3082])],\n",
       " 'rna59772': ['Scaffold1045', array([  0, 326, 953]), array([1830, 2215])],\n",
       " 'rna59773': ['Scaffold1045', array([  0, 321, 908]), array([1835, 2215])],\n",
       " 'rna60282': ['Scaffold105', array([  0, 537]), array([83537])],\n",
       " 'rna60338': ['Scaffold104',\n",
       "  array([   0,  882, 1032]),\n",
       "  array([-271753, -270830])],\n",
       " 'rna60778': ['Scaffold1024', array([   0,  105, 1131]), array([  84, 2502])],\n",
       " 'rna61620': ['Scaffold10094', array([  0, 202]), array([244])],\n",
       " 'rna62658': ['Scaffold105', array([  0, 291]), array([-53463])],\n",
       " 'rna62772': ['Scaffold104',\n",
       "  array([  0,  49, 376, 511, 732]),\n",
       "  array([-71626, -69565, -68973, -68712])],\n",
       " 'rna63063': ['Scaffold106',\n",
       "  array([   0,  304,  573,  691,  824,  875, 1021, 1145, 1260, 1391, 1493,\n",
       "         1662, 1763, 1922, 2041, 2267]),\n",
       "  array([30190, 52555, 53207, 61108, 62738, 62997, 63700, 66618, 68578,\n",
       "         69676, 78859, 79291, 80011, 80578, 81595])],\n",
       " 'rna63414': ['Scaffold101', array([  0, 210, 537]), array([128290, 128910])],\n",
       " 'rna64216': ['Scaffold105', array([  0, 558]), array([-51124])],\n",
       " 'rna64413': ['Scaffold101',\n",
       "  array([  0, 208, 216]),\n",
       "  array([-132160, -131791])],\n",
       " 'rna64580': ['Scaffold101', array([   0, 1104]), array([-39743])],\n",
       " 'rna64617': ['Scaffold10429', array([  0, 243]), array([303])],\n",
       " 'rna66364': ['Scaffold101', array([  0, 228]), array([73814])],\n",
       " 'rna66563': ['Scaffold1052', array([   0, 2058]), array([9])],\n",
       " 'rna68565': ['Scaffold10158', array([  0, 678]), array([-680])],\n",
       " 'rna69014': ['Scaffold104', array([   0, 7855]), array([-216564])],\n",
       " 'rna69352': ['Scaffold10260', array([  0, 512]), array([29])],\n",
       " 'rna69410': ['Scaffold101',\n",
       "  array([   0,   70,  220,  355,  486, 1073]),\n",
       "  array([-195741, -194872, -187143, -185950, -185077])],\n",
       " 'rna70833': ['Scaffold10215', array([  0, 888]), array([64])],\n",
       " 'rna71625': ['Scaffold102', array([  0, 564, 960]), array([-91596, -90951])],\n",
       " 'rna72388': ['Scaffold10166', array([  0, 282]), array([48])],\n",
       " 'rna73428': ['Scaffold10127', array([  0, 639]), array([73])],\n",
       " 'rna7345': ['Scaffold106',\n",
       "  array([   0,  272,  496,  608,  761,  839,  960, 1099, 1224, 1978]),\n",
       "  array([ 3114,  7287,  7695,  7921,  9512, 11420, 12586, 14229, 19422])],\n",
       " 'rna7346': ['Scaffold106',\n",
       "  array([   0,  272,  496,  608,  761,  839,  960, 1099, 1224, 1979]),\n",
       "  array([ 3114,  7287,  7695,  7921,  9512, 11420, 12586, 14229, 19422])],\n",
       " 'rna74114': ['Scaffold100',\n",
       "  array([  0,  31, 115, 247, 311]),\n",
       "  array([186956, 190162, 191849, 193445])],\n",
       " 'rna74207': ['Scaffold101966', array([ 0, 74]), array([5])],\n",
       " 'rna74628': ['Scaffold1032',\n",
       "  array([  0, 137, 261, 500]),\n",
       "  array([ 667,  893, 1496])],\n",
       " 'rna76143': ['Scaffold104',\n",
       "  array([   0,  199,  394, 1280]),\n",
       "  array([-83569, -79954, -75441])],\n",
       " 'rna76284': ['Scaffold1022', array([  0, 256, 600]), array([207, 785])],\n",
       " 'rna77608': ['Scaffold101947', array([ 0, 73]), array([63])],\n",
       " 'rna77811': ['Scaffold10219', array([ 0, 73]), array([-895])],\n",
       " 'rna78199': ['Scaffold100',\n",
       "  array([   0,  272,  344,  554,  718,  788,  953, 1133]),\n",
       "  array([110725, 113389, 117238, 118022, 132241, 180420, 181023])],\n",
       " 'rna78287': ['Scaffold10545', array([ 0, 72]), array([780])],\n",
       " 'rna78530': ['Scaffold103338', array([ 0, 71]), array([-163])],\n",
       " 'rna78581': ['Scaffold100330', array([  0,  87, 134]), array([-227,  -47])],\n",
       " 'rna79009': ['Scaffold10052',\n",
       "  array([  0, 156, 325, 369]),\n",
       "  array([356, 643, 925])],\n",
       " 'rna80036': ['Scaffold103',\n",
       "  array([  0,  76, 241, 406, 535, 644, 744]),\n",
       "  array([-217315, -215553, -214397, -214030, -213653, -213303])],\n",
       " 'rna80467': ['Scaffold103',\n",
       "  array([  0,  28, 154, 253, 388, 545, 589]),\n",
       "  array([126312, 127574, 129243, 131147, 131597, 133577])],\n",
       " 'rna80914': ['Scaffold101757', array([ 0, 71]), array([87])],\n",
       " 'rna81122': ['Scaffold100627', array([ 0, 74]), array([-182])],\n",
       " 'rna81286': ['Scaffold10554',\n",
       "  array([  0,   5,  15, 425]),\n",
       "  array([-497, -490, -478])],\n",
       " 'rna82634': ['Scaffold104',\n",
       "  array([   0,  856, 1364]),\n",
       "  array([109217, 111418])],\n",
       " 'rna8303': ['Scaffold101',\n",
       "  array([   0,  164,  279,  408,  564,  628,  692,  784,  961, 1021, 1189,\n",
       "         1257, 1300, 1364, 1441, 2809]),\n",
       "  array([16973, 18927, 21655, 23165, 24593, 25886, 26153, 26452, 26977,\n",
       "         27123, 28546, 31249, 33719, 35241, 36166])],\n",
       " 'rna8304': ['Scaffold101',\n",
       "  array([   0,  166,  281,  410,  566,  630,  694,  786,  963, 1023, 1191,\n",
       "         1259, 1302, 1366, 1443, 2762]),\n",
       "  array([16971, 18927, 21655, 23165, 24593, 25886, 26153, 26452, 26977,\n",
       "         27123, 28546, 31249, 33719, 35241, 36166])],\n",
       " 'rna83308': ['Scaffold100',\n",
       "  array([   0,  252,  399,  534,  618,  750,  813,  893, 1041, 1095, 1127,\n",
       "         1209, 1410, 1473, 1500, 1676, 1774, 1950, 2019, 2185, 2258, 2670]),\n",
       "  array([-303984, -302989, -238478, -233422, -231756, -230947, -229276,\n",
       "         -225873, -221020, -219930, -219032, -218468, -217793, -216879,\n",
       "         -215503, -215214, -213958, -212906, -212345, -210563, -209818])],\n",
       " 'rna86955': ['Scaffold103',\n",
       "  array([   0,  126,  322,  523,  824, 1711]),\n",
       "  array([-227723, -227417, -227086, -225764, -224336])],\n",
       " 'rna87073': ['Scaffold10281', array([  0, 724]), array([233])],\n",
       " 'rna87247': ['Scaffold100', array([  0, 226, 594]), array([-54980, -52763])],\n",
       " 'rna87833': ['Scaffold10527', array([ 0, 73]), array([247])],\n",
       " 'rna87883': ['Scaffold103460', array([  0,  90, 122]), array([-214,  -43])],\n",
       " 'rna87884': ['Scaffold105',\n",
       "  array([   0,  404,  482,  582,  657,  725,  834,  908, 1046, 1169, 2546]),\n",
       "  array([279201, 280856, 287638, 290407, 291909, 292688, 293649, 294721,\n",
       "         296928, 306464])],\n",
       " 'rna87885': ['Scaffold105',\n",
       "  array([   0,  395,  473,  573,  648,  716,  825,  899, 1037, 1148, 2525]),\n",
       "  array([279210, 280856, 287638, 290407, 291909, 292688, 293649, 294721,\n",
       "         295072, 306464])],\n",
       " 'rna87886': ['Scaffold105',\n",
       "  array([   0,  393,  471,  571,  646,  714,  823,  897, 1035, 1146, 1269,\n",
       "         1311, 2688]),\n",
       "  array([279212, 280856, 287638, 290407, 291909, 292688, 293649, 294721,\n",
       "         295072, 296928, 303252, 306464])],\n",
       " 'rna87887': ['Scaffold105',\n",
       "  array([   0,  391,  469,  569,  644,  712,  821,  895, 1033, 1144, 1267,\n",
       "         2644]),\n",
       "  array([279214, 280856, 287638, 290407, 291909, 292688, 293649, 294721,\n",
       "         295072, 296928, 306464])],\n",
       " 'rna87888': ['Scaffold105',\n",
       "  array([   0,  241,  319,  419,  494,  562,  671,  745,  883,  994, 1073,\n",
       "         1199]),\n",
       "  array([279364, 280856, 287638, 290407, 291909, 292688, 293649, 294721,\n",
       "         295498, 307301, 307714])],\n",
       " 'rna88690': ['Scaffold10219', array([ 0, 71]), array([55])],\n",
       " 'rna89070': ['Scaffold101',\n",
       "  array([   0,   98, 1073]),\n",
       "  array([-77058, -61831])],\n",
       " 'rna89189': ['Scaffold10049', array([  0, 250]), array([530])],\n",
       " 'rna89662': ['Scaffold103',\n",
       "  array([   0,  233,  408,  642,  804,  953, 1054, 1272, 1451, 1518, 1825,\n",
       "         1929, 2017, 2184, 2345, 2493, 2747]),\n",
       "  array([141280, 141596, 142138, 142495, 142740, 143048, 143250, 143820,\n",
       "         144125, 144514, 145503, 145703, 145940, 146277, 146805, 147044])],\n",
       " 'rna89979': ['Scaffold1037',\n",
       "  array([  0, 135, 253, 432, 974]),\n",
       "  array([-3248, -2983, -2353,  -955])],\n",
       " 'rna92344': ['Scaffold1045',\n",
       "  array([  0,   2,   7, 545]),\n",
       "  array([-668, -664, -657])],\n",
       " 'rna92437': ['Scaffold105',\n",
       "  array([   0,   81,  142,  241,  311,  390,  486,  525,  624,  792,  873,\n",
       "         1245]),\n",
       "  array([11925, 13751, 32517, 32717, 32888, 34565, 37710, 59202, 59801,\n",
       "         60051, 61435])],\n",
       " 'rna93169': ['Scaffold105971', array([  0, 202]), array([7])],\n",
       " 'rna93893': ['Scaffold103',\n",
       "  array([   0,  354,  510,  606, 1289]),\n",
       "  array([279114, 282143, 282758, 284813])],\n",
       " 'rna94325': ['Scaffold103', array([  0, 830]), array([3229])],\n",
       " 'rna94704': ['Scaffold103277', array([ 0, 82]), array([-158])],\n",
       " 'rna94805': ['Scaffold10361', array([  0, 678]), array([113])],\n",
       " 'rna94811': ['Scaffold102870', array([ 0, 82]), array([72])],\n",
       " 'rna94915': ['Scaffold10353', array([ 0, 74]), array([-101])],\n",
       " 'rna95469': ['Scaffold10422', array([ 0, 82]), array([-150])],\n",
       " 'rna95933': ['Scaffold103',\n",
       "  array([   0, 1447, 1628, 1771, 1940, 2035, 2181, 2327, 2412, 2538, 2839]),\n",
       "  array([49574, 65189, 66501, 67095, 68094, 70431, 71980, 74690, 76611,\n",
       "         80634])],\n",
       " 'rna95961': ['Scaffold103',\n",
       "  array([   0,  184,  298,  439,  623, 1494]),\n",
       "  array([-300280, -299615, -299159, -293767, -293032])],\n",
       " 'rna96750': ['Scaffold100',\n",
       "  array([   0,  111,  266, 1502]),\n",
       "  array([-100665,  -99803,  -72556])],\n",
       " 'rna97589': ['Scaffold1050', array([   0, 1684]), array([-3466])]}"
      ]
     },
     "execution_count": 14,
     "metadata": {},
     "output_type": "execute_result"
    }
   ],
   "source": [
    "{k:v for i, (k,v) in enumerate(xenla_exons.items()) if ((i>-1) & (i<150))}"
   ]
  },
  {
   "cell_type": "markdown",
   "metadata": {},
   "source": [
    "Now we can save this dictionnary"
   ]
  },
  {
   "cell_type": "code",
   "execution_count": 15,
   "metadata": {
    "collapsed": true
   },
   "outputs": [],
   "source": [
    "import pickle\n",
    "with open(\"XENLA_9.2_annotation.gff3.pickle\", 'wb') as handle:\n",
    "    pickle.dump(xenla_exons, handle, protocol=pickle.HIGHEST_PROTOCOL)"
   ]
  },
  {
   "cell_type": "markdown",
   "metadata": {},
   "source": [
    "### Make an annotation table and exons dictionnary for the gene bodies"
   ]
  },
  {
   "cell_type": "markdown",
   "metadata": {},
   "source": [
    "We adjust the annotation table generation to get the gene bodies as opposed to transcripts. The genebodies are the lines with 3rd field==gene as seen by\n",
    "\n",
    "```bash\n",
    " grep \"gbkey=Gene\"  XENLA_9.2_Xenbase.gff3 | cut -f3,3 | sort | uniq\n",
    "```\n",
    "\n",
    "so we need\n",
    "\n",
    "```bash\n",
    "awk -F $'\\t' 'BEGIN{OFS=\"\\t\"}(/^#/){next;}($3==\"gene\"){delete x; delete y; delete z; split($9, x,\";\"); for (i = 0; ++i <= length(x);){split(x[i],y,\"=\"); z[y[1]]=y[2];}; if (length(z[\"gene\"])==0){z[\"gene\"]=z[\"ID\"];}; s=$5-$4; print z[\"ID\"], z[\"ID\"], z[\"gene\"], z[\"gene_biotype\"], $7, s}' XENLA_9.2_Xenbase.gff3 > XENLA_9.2_tableGENEBODIES.txt\n",
    "```\n",
    "\n",
    "Verify file integrity with\n",
    "```bash\n",
    "awk -F $'\\t' '(length($1)==0 || length($2)==0 || length($3)==0 || length($4)==0 || length($5)==0 || length($6)==0 || NF<6)' XENLA_9.2_tableGENEBODIES.txt\n",
    "```"
   ]
  },
  {
   "cell_type": "markdown",
   "metadata": {},
   "source": [
    "And now the exons dictionnary"
   ]
  },
  {
   "cell_type": "code",
   "execution_count": 8,
   "metadata": {
    "collapsed": true
   },
   "outputs": [],
   "source": [
    "def make_genebodies_dict_fromGFF(gff_file, nmax=0):\n",
    "    m={}\n",
    "    \n",
    "    cmd = \"cat \"+gff_file+\"\"\" | awk -F $'\\t' 'BEGIN{OFS=\"\\t\"}(/^#/){next;}($3==\"gene\")\"\"\"\n",
    "    cmd+=\"\"\"{delete xarr; delete yy; delete zz; x=$9; split(x,xarr,\\\";\\\"); for (i=1; i<=length(xarr); i++)\"\"\"\n",
    "    cmd+=\"\"\" {split(xarr[i],yy,\"=\"); zz[yy[1]]=yy[2];}; print zz[\"ID\"], $4, $5, $7, $1}'\"\"\"\n",
    "    \n",
    "    print(cmd)\n",
    "    p = subprocess.Popen(cmd, shell=True, stdout=subprocess.PIPE, bufsize=1, universal_newlines=True, start_new_session=True)\n",
    "    nok=0\n",
    "    for _, line in enumerate(p.stdout):\n",
    "        if nmax>0 and nok>nmax:\n",
    "            break\n",
    "        read_data=line.strip().split(\"\\t\") \n",
    "        T_id=read_data[0] #transcript I\n",
    "        \n",
    "        if T_id in m:\n",
    "            print(\"oops, already found\")\n",
    "#             m[T_id]+=[read_data[3],read_data[1],read_data[2]]\n",
    "        else:\n",
    "            nok+=1\n",
    "            readstrand=int(1) if read_data[3]==\"+\" else int(-1)\n",
    "            m[T_id]=[readstrand,int(read_data[1]),int(read_data[2]),read_data[4]]\n",
    "            \n",
    "    p.terminate()\n",
    "    del p\n",
    "    \n",
    "    m2={}\n",
    "    cmd = \"cat \"+gff_file+\"\"\" | awk -F $'\\t' 'BEGIN{OFS=\"\\t\"}(/^#/){next;}($3==\"gene\")\"\"\"\n",
    "    cmd+=\"\"\"{delete xarr; delete yy; delete zz; x=$9; split(x,xarr,\\\";\\\"); for (i=1; i<=length(xarr); i++)\"\"\"\n",
    "    cmd+=\"\"\" {split(xarr[i],yy,\"=\"); zz[yy[1]]=yy[2];}; print zz[\"ID\"], $4, $5}'\"\"\"\n",
    "    print(cmd)\n",
    "    p = subprocess.Popen(cmd, shell=True, stdout=subprocess.PIPE, bufsize=1, universal_newlines=True, start_new_session=True)\n",
    "    nok=0\n",
    "    for _, line in enumerate(p.stdout):\n",
    "        if nmax>0 and nok>nmax:\n",
    "            break\n",
    "        read_data=line.strip().split(\"\\t\") \n",
    "        T_id=read_data[0] #transcript I\n",
    "        \n",
    "        vals=m2.pop(T_id,[])\n",
    "        if len(vals)>0:\n",
    "            \n",
    "            m2[T_id]=np.vstack([vals,np.array([int(read_data[1]),int(read_data[2])])])\n",
    "        else:\n",
    "            nok+=1\n",
    "            m2[T_id]=np.array([[int(read_data[1]),int(read_data[2])]])\n",
    "    \n",
    "    p.terminate()\n",
    "    del p\n",
    "    \n",
    "    for k, v in m.items():\n",
    "        vals=m2.pop(k,[])\n",
    "        if len(vals)>0:\n",
    "            if v[0]==1:\n",
    "                a=np.argsort(vals[:,0])\n",
    "                m2[k]=[v[3],np.insert(np.cumsum(vals[a,1]-vals[a,0]+1),0,0),vals[a,0]]\n",
    "            else:\n",
    "                a=np.argsort(-vals[:,1])\n",
    "                m2[k]=[v[3],np.insert(np.cumsum(vals[a,1]-vals[a,0]+1),0,0),-vals[a,1]]\n",
    "        else:\n",
    "            m2[k]=[]\n",
    "    \n",
    "    return m2"
   ]
  },
  {
   "cell_type": "code",
   "execution_count": null,
   "metadata": {
    "collapsed": true
   },
   "outputs": [],
   "source": [
    "xenla_genebodies=make_genebodies_dict_fromGFF(\"XENLA_9.2_Xenbase.gff3\")"
   ]
  },
  {
   "cell_type": "code",
   "execution_count": 10,
   "metadata": {},
   "outputs": [
    {
     "data": {
      "text/plain": [
       "{'gene11732': ['chr9_10L', array([    0, 20135]), array([17229350])],\n",
       " 'gene17849': ['chr6S', array([    0, 17355]), array([-8437766])],\n",
       " 'gene25214': ['chr9_10L', array([    0, 16132]), array([97703976])],\n",
       " 'gene29874': ['chr2S', array([   0, 2250]), array([62437567])],\n",
       " 'gene45651': ['chr7L', array([   0, 4450]), array([-78606500])]}"
      ]
     },
     "execution_count": 10,
     "metadata": {},
     "output_type": "execute_result"
    }
   ],
   "source": [
    "{k:v for i, (k,v) in enumerate(xenla_genebodies.items()) if i<5}"
   ]
  },
  {
   "cell_type": "markdown",
   "metadata": {},
   "source": [
    "Everything looks fine so we can save it"
   ]
  },
  {
   "cell_type": "code",
   "execution_count": 12,
   "metadata": {
    "collapsed": true
   },
   "outputs": [],
   "source": [
    "with open(\"XENLA_9.2_annotationGENEBODIES.gff3.pickle\", 'wb') as handle:\n",
    "    pickle.dump(xenla_genebodies, handle, protocol=pickle.HIGHEST_PROTOCOL)"
   ]
  },
  {
   "cell_type": "markdown",
   "metadata": {},
   "source": [
    "## Make fasta"
   ]
  },
  {
   "cell_type": "markdown",
   "metadata": {},
   "source": [
    "Teh steps below are to generate transcriptome fasta for Salmon. For human, we can just download the transcriptome. For xenla, we couldn't find the transcriptome online, so we need to generate it from the gff file. And it's a pain. First convert gff to bed file with tx definitions"
   ]
  },
  {
   "cell_type": "markdown",
   "metadata": {
    "collapsed": true
   },
   "source": [
    "```bash\n",
    "awk -F $'\\t' 'BEGIN{types[\"mRNA\"]=1; types[\"ncRNA\"]=1; types[\"lnc_RNA\"]=1; types[\"telomerase_RNA\"]=1; types[\"snRNA\"]=1; types[\"snoRNA\"]=1; types[\"transcript\"]=1; OFS=\"\\t\"}(/^#/){next;}($3 in types){delete x; delete y; delete z; split($9, x,\";\"); for (i = 0; ++i <= length(x);){split(x[i],y,\"=\"); z[y[1]]=y[2];}; if (substr(z[\"gene\"])==0){z[\"gene\"]=z[\"ID\"];}; print $1, $4, $5, z[\"ID\"]\" gene=\"z[\"gene\"]\" biotype=\"$3, \".\", $7}' XENLA_9.2_Xenbase.gff3 > XENLA_9.2_TX.bed\n",
    "```"
   ]
  },
  {
   "cell_type": "markdown",
   "metadata": {},
   "source": [
    "Now make fa file"
   ]
  },
  {
   "cell_type": "markdown",
   "metadata": {
    "collapsed": true
   },
   "source": [
    "```bash\n",
    "bedtools getfasta -name -fi ../XL9_2.fa -bed XENLA_9.2_TX.bed >XENLA_9.2_transcriptome.fa\n",
    "```"
   ]
  },
  {
   "cell_type": "markdown",
   "metadata": {},
   "source": [
    "The problem with the above method, is that this fasta acutally contains the introns... We need to make afasta file without introns... which is what salmon wants!"
   ]
  },
  {
   "cell_type": "markdown",
   "metadata": {
    "collapsed": true
   },
   "source": [
    "```bash\n",
    "cat XENLA_9.2_Xenbase.gff3 | awk -F $'\\t' 'BEGIN{OFS=\"\"; ORS=\"\"; curr_rna=\"\"}(/^#/){next;}($3==\"exon\"){delete x; delete y; delete z; split($9, x,\";\"); for (i = 0; ++i <= length(x);){split(x[i],y,\"=\"); z[y[1]]=y[2];}; parent=z[\"Parent\"]; if (substr(parent,1,3)==\"rna\"){if (parent==curr_rna){range=$1\":\"$4\"-\"$5; system(\"samtools faidx ../XL9_2.fa \"range\" | awk -f awkbody.awk\");} else {print \"\\n>\"parent\"\\n\"; range=$1\":\"$4\"-\"$5; system(\"samtools faidx ../XL9_2.fa \"range\" | awk -f awkbody.awk\"); curr_rna=parent};};}' | sed -e \"1d\" >XENLA_9.2_transcriptome_NOINTRONS.fa\n",
    "```"
   ]
  },
  {
   "cell_type": "markdown",
   "metadata": {},
   "source": [
    "This above is very slow because it is making many system calls to samtools. Instead, let's speed it up by combining the exonic ranges of a single gene into a single system call"
   ]
  },
  {
   "cell_type": "markdown",
   "metadata": {
    "collapsed": true
   },
   "source": [
    "```bash\n",
    "cat XENLA_9.2_Xenbase.gff3 | awk -F $'\\t' 'BEGIN{OFS=\"\"; ORS=\"\"; curr_rna=\"\";}(/^#/){next;}($3==\"exon\"){delete x; delete y; delete z; split($9, x,\";\"); for (i = 0; ++i <= length(x);){split(x[i],y,\"=\"); z[y[1]]=y[2];}; parent=z[\"Parent\"]; if (substr(parent,1,3)==\"rna\"){if (parent==curr_rna){range=range\" \"$1\":\"$4\"-\"$5;} else {if (length(curr_rna)>0){print \">\"curr_rna\"\\n\"; system(\"samtools faidx ../XL9_2.fa \"range\" | awk -f awkbody_fastcompute.awk\"); print \"\\n\"}; curr_rna=parent; range=$1\":\"$4\"-\"$5;}}}END{print \">\"curr_rna\"\\n\"; system(\"samtools faidx ../XL9_2.fa \"range\" | awk -f awkbody_fastcompute.awk\"); print \"\\n\"}' >XENLA_9.2_transcriptome_NOINTRONS_fastcompute.fa\n",
    "```"
   ]
  },
  {
   "cell_type": "markdown",
   "metadata": {},
   "source": [
    "Ok, now this fasta doesnt't have solo exons, that is exons whose parents is a gene not a transcript. We make a fasta for the solo exons by picking the ones whose parent starts with \"gene\", as well as the whose parent start"
   ]
  },
  {
   "cell_type": "markdown",
   "metadata": {
    "collapsed": true
   },
   "source": [
    "```bash\n",
    "cat XENLA_9.2_Xenbase.gff3 | awk -F $'\\t' 'BEGIN{OFS=\"\"; ORS=\"\"; curr_rna=\"\";}(/^#/){next;}($3==\"exon\"){delete x; delete y; delete z; split($9, x,\";\"); for (i = 0; ++i <= length(x);){split(x[i],y,\"=\"); z[y[1]]=y[2];}; parent=z[\"Parent\"]; if (substr(parent,1,4)==\"gene\"){if (parent==curr_rna){range=range\" \"$1\":\"$4\"-\"$5;} else {if (length(curr_rna)>0){print \">\"curr_rna\"\\n\"; system(\"samtools faidx ../XL9_2.fa \"range\" | awk -f awkbody_fastcompute.awk\"); print \"\\n\"}; curr_rna=parent; range=$1\":\"$4\"-\"$5;}}}END{print \">\"curr_rna\"\\n\"; system(\"samtools faidx ../XL9_2.fa \"range\" | awk -f awkbody_fastcompute.awk\"); print \"\\n\"}' >XENLA_9.2_transcriptome_NOINTRONS_fastcompute_soloExons.fa\n",
    "\n",
    "cat XENLA_9.2_Xenbase.gff3 | awk -F $'\\t' 'BEGIN{OFS=\"\"; ORS=\"\"; curr_rna=\"\";}(/^#/){next;}($3==\"exon\"){delete x; delete y; delete z; split($9, x,\";\"); for (i = 0; ++i <= length(x);){split(x[i],y,\"=\"); z[y[1]]=y[2];}; parent=z[\"Parent\"]; if (substr(parent,1,2)==\"id\"){if (parent==curr_rna){range=range\" \"$1\":\"$4\"-\"$5;} else {if (length(curr_rna)>0){print \">\"curr_rna\"\\n\"; system(\"samtools faidx ../XL9_2.fa \"range\" | awk -f awkbody_fastcompute.awk\"); print \"\\n\"}; curr_rna=parent; range=$1\":\"$4\"-\"$5;}}}END{print \">\"curr_rna\"\\n\"; system(\"samtools faidx ../XL9_2.fa \"range\" | awk -f awkbody_fastcompute.awk\"); print \"\\n\"}' >XENLA_9.2_transcriptome_NOINTRONS_fastcompute_idTypes.fa\n",
    "```"
   ]
  },
  {
   "cell_type": "markdown",
   "metadata": {},
   "source": [
    "Finally combine all these fasta files into a final transcriptome"
   ]
  },
  {
   "cell_type": "markdown",
   "metadata": {},
   "source": [
    "```bash\n",
    "cat XENLA_9.2_transcriptome_NOINTRONS_fastcompute.fa XENLA_9.2_transcriptome_NOINTRONS_fastcompute_soloExons.fa XENLA_9.2_transcriptome_NOINTRONS_fastcompute_idTypes.fa >XENLA_9.2_transcriptome_NOINTRONS_fastcompute_ALL.fa\n",
    "```"
   ]
  },
  {
   "cell_type": "markdown",
   "metadata": {},
   "source": [
    "## Make all the other tables"
   ]
  },
  {
   "cell_type": "markdown",
   "metadata": {},
   "source": [
    "- annotations: chrdb -> go get it in the star index folder `chrNameLength.txt`\n",
    "- annotations: chrdb -> `awk -F $'\\t' 'BEGIN{types[\"mRNA\"]=1; types[\"ncRNA\"]=1; types[\"lnc_RNA\"]=1; types[\"telomerase_RNA\"]=1; types[\"snRNA\"]=1; types[\"snoRNA\"]=1; types[\"transcript\"]=1; OFS=\"\\t\"}(/^#/){next;}($3 in types){delete x; delete y; delete z; split($9, x,\";\"); for (i = 0; ++i <= length(x);){split(x[i],y,\"=\"); z[y[1]]=y[2];}; s=$5-$4; print z[\"ID\"], z[\"Parent\"], $7, $4, s}' XENLA_9.2_Xenbase.gff3 >XENLA_9.2_TXDB.txt`\n",
    "- annotations: genedb -> `awk -F $'\\t' 'BEGIN{OFS=\"\\t\"}(/^#/){next;}($3==\"gene\"){delete x; delete y; delete z; split($9, x,\";\"); for (i = 0; ++i <= length(x);){split(x[i],y,\"=\"); z[y[1]]=y[2];}; if (length(z[\"gene\"])==0){z[\"gene\"]=z[\"ID\"];}; s=$5-$4; print z[\"ID\"], z[\"gene_biotype\"], z[\"gene\"], $1, $7, $4}' XENLA_9.2_Xenbase.gff3 >XENLA_9.2_GENESDB.txt`"
   ]
  },
  {
   "cell_type": "markdown",
   "metadata": {},
   "source": [
    "# Generate Bowtie, Star and Salmon indices\n",
    "See 02_make_aligner_indexes_XenopusLaevis.ipynb"
   ]
  },
  {
   "cell_type": "markdown",
   "metadata": {},
   "source": []
  }
 ],
 "metadata": {
  "kernelspec": {
   "display_name": "charseq",
   "language": "python",
   "name": "charseq"
  },
  "language_info": {
   "codemirror_mode": {
    "name": "ipython",
    "version": 3
   },
   "file_extension": ".py",
   "mimetype": "text/x-python",
   "name": "python",
   "nbconvert_exporter": "python",
   "pygments_lexer": "ipython3",
   "version": "3.6.3"
  }
 },
 "nbformat": 4,
 "nbformat_minor": 2
}
